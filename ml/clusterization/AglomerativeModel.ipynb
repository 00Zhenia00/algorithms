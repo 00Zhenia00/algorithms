{
 "cells": [
  {
   "cell_type": "code",
   "execution_count": 6,
   "id": "70c5ea22",
   "metadata": {},
   "outputs": [],
   "source": [
    "import numpy as np"
   ]
  },
  {
   "cell_type": "code",
   "execution_count": 64,
   "id": "80cf60a6",
   "metadata": {},
   "outputs": [],
   "source": [
    "class Aglomerative:\n",
    "    def __init__(self, n_clusters=2, threshold=None, metric='euclidean', linkage='single'):\n",
    "        self._data = None\n",
    "        self._dist_matrix = None\n",
    "        self._labels = None\n",
    "        self._n_clusters = n_clusters\n",
    "        self._threshold = threshold\n",
    "        self._metric = metric\n",
    "        self._linkage = linkage\n",
    "    \n",
    "    def fit(self, data):\n",
    "        self._data = data\n",
    "        self._dist_matrix = np.zeros((len(data), len(data)), dtype=float)\n",
    "        self._labels = np.arange(len(data))\n",
    "\n",
    "        # Calculate initial distance matrix\n",
    "        for i in range(len(data)):\n",
    "            for j in range(i + 1, len(data)):\n",
    "                self._dist_matrix[i, j] = self._distance(data[i], data[j])\n",
    "                self._dist_matrix[j, i] = self._dist_matrix[i, j]\n",
    "        \n",
    "        if self._threshold is None:\n",
    "            self._threshold = np.inf\n",
    "\n",
    "        min_dist = None\n",
    "        while (len(np.unique(self._labels)) > self._n_clusters) and (min_dist is None or min_dist < self._threshold):\n",
    "            self._dist_matrix, self._labels, min_dist = self._update(self._dist_matrix, self._labels)\n",
    "        \n",
    "        return self\n",
    "\n",
    "    def _single_linkage_distance(self, x1, x2):\n",
    "        return np.min([self._distance(x1[i], x2[j]) for i in range(len(x1)) for j in range(len(x2))])\n",
    "    \n",
    "    def _complete_linkage_distance(self, x1, x2):\n",
    "        return np.max([self._distance(x1[i], x2[j]) for i in range(len(x1)) for j in range(len(x2))])\n",
    "    \n",
    "    def _average_linkage_distance(self, x1, x2):\n",
    "        return np.mean([self._distance(x1[i], x2[j]) for i in range(len(x1)) for j in range(len(x2))])\n",
    "    \n",
    "    def _ward_linkage_distance(self, x1, x2):\n",
    "        return np.sum((np.mean(x1, axis=0) - np.mean(x2, axis=0)) ** 2) * len(x1) * len(x2) / (len(x1) + len(x2))\n",
    "    \n",
    "    def _centroid_linkage_distance(self, x1, x2):\n",
    "        return np.linalg.norm(np.mean(x1, axis=0) - np.mean(x2, axis=0))\n",
    "    \n",
    "    def _median_linkage_distance(self, x1, x2):\n",
    "        return np.linalg.norm(np.median(x1, axis=0) - np.median(x2, axis=0))\n",
    "    \n",
    "    def _linkage_distance(self, x1, x2):\n",
    "        if self._linkage == 'single':\n",
    "            return self._single_linkage_distance(x1, x2)\n",
    "        elif self._linkage == 'complete':\n",
    "            return self._complete_linkage_distance(x1, x2)\n",
    "        elif self._linkage == 'average':\n",
    "            return self._average_linkage_distance(x1, x2)\n",
    "        elif self._linkage == 'ward':\n",
    "            return self._ward_linkage_distance(x1, x2)\n",
    "        elif self._linkage == 'centroid':\n",
    "            return self._centroid_linkage_distance(x1, x2)\n",
    "        elif self._linkage == 'median':\n",
    "            return self._median_linkage_distance(x1, x2)\n",
    "        else:\n",
    "            raise ValueError(f\"Unknown linkage: {self._linkage}!\")\n",
    "\n",
    "    def _distance(self, x1, x2):\n",
    "        if self._metric == 'euclidean':\n",
    "            return np.linalg.norm(x1 - x2)\n",
    "        else:\n",
    "            raise ValueError(f\"Unknown metric: {self._metric}!\")\n",
    "    \n",
    "    def _find_first_occurrence_indices(self, matrix, value):\n",
    "        mask = matrix == value\n",
    "        if mask.any():\n",
    "            return np.unravel_index(mask.argmax(), matrix.shape)\n",
    "        return (None, None)\n",
    "\n",
    "    def _update(self, dist_matrix, labels):\n",
    "        indices_upper = np.triu_indices(len(dist_matrix), k=1)  # Index of upper part of dist_matrix (skip diagonal)\n",
    "        min_distance = np.min(dist_matrix[indices_upper])\n",
    "        row, col = self._find_first_occurrence_indices(dist_matrix, min_distance)\n",
    "        \n",
    "        # Update label\n",
    "        labels[labels == col] = row\n",
    "        labels[labels > col] -= 1\n",
    "\n",
    "        # Deleted the row and column 'col'  \n",
    "        dist_matrix = np.delete(dist_matrix, col, 0)\n",
    "        dist_matrix = np.delete(dist_matrix, col, 1)\n",
    "\n",
    "        # Update dist_matrix\n",
    "        for i in range(len(dist_matrix)):\n",
    "            dist_matrix[row, i] = self._linkage_distance(self._data[labels == row], self._data[labels == i])\n",
    "            dist_matrix[i, row] = dist_matrix[row, i]\n",
    "        return dist_matrix, labels, min_distance\n",
    "    \n",
    "    @property\n",
    "    def labels(self):\n",
    "        return self._labels\n"
   ]
  },
  {
   "cell_type": "code",
   "execution_count": null,
   "id": "8810909f",
   "metadata": {},
   "outputs": [],
   "source": [
    "# from the book\n",
    "data = np.array([\n",
    "    [1, 5],\n",
    "    [2, 4],\n",
    "    [2, 7],\n",
    "    [2, 9],\n",
    "    [3, 1],\n",
    "    [5, 5],\n",
    "    [5, 7],\n",
    "    [6, 6],\n",
    "    [7, 6],\n",
    "    [10, 6]\n",
    "])"
   ]
  },
  {
   "cell_type": "code",
   "execution_count": 65,
   "id": "18da9f7c",
   "metadata": {},
   "outputs": [],
   "source": [
    "data = np.array([\n",
    "    [1, 2],\n",
    "    [1, 4],\n",
    "    [1, 0],\n",
    "    [4, 2],\n",
    "    [4, 4],\n",
    "    [4, 0]\n",
    "])"
   ]
  },
  {
   "cell_type": "code",
   "execution_count": 66,
   "id": "922e9a49",
   "metadata": {},
   "outputs": [
    {
     "name": "stdout",
     "output_type": "stream",
     "text": [
      "[0 0 0 1 1 1]\n"
     ]
    }
   ],
   "source": [
    "model = Aglomerative(n_clusters=2, metric='euclidean', linkage='single')\n",
    "model.fit(data)\n",
    "print(model.labels)"
   ]
  },
  {
   "cell_type": "code",
   "execution_count": null,
   "id": "94b512a1",
   "metadata": {},
   "outputs": [],
   "source": [
    "# from sklearn.cluster import AgglomerativeClustering\n",
    "# import numpy as np\n",
    "# X = np.array([[1, 2], [1, 4], [1, 0],\n",
    "#               [4, 2], [4, 4], [4, 0]])\n",
    "# clustering = AgglomerativeClustering().fit(X)\n",
    "# clustering.labels_\n",
    "\n",
    "# array([1, 1, 1, 0, 0, 0])"
   ]
  },
  {
   "cell_type": "markdown",
   "id": "17f920cc",
   "metadata": {},
   "source": [
    "https://medium.com/@quangloctrandinh1998vn/hierarchical-clustering-python-from-scratch-fc1c60e935f7"
   ]
  },
  {
   "cell_type": "markdown",
   "id": "b8e658a7",
   "metadata": {},
   "source": [
    "https://scikit-learn.org/stable/modules/generated/sklearn.cluster.AgglomerativeClustering.html#sklearn.cluster.AgglomerativeClustering.fit"
   ]
  }
 ],
 "metadata": {
  "kernelspec": {
   "display_name": ".venv",
   "language": "python",
   "name": "python3"
  },
  "language_info": {
   "codemirror_mode": {
    "name": "ipython",
    "version": 3
   },
   "file_extension": ".py",
   "mimetype": "text/x-python",
   "name": "python",
   "nbconvert_exporter": "python",
   "pygments_lexer": "ipython3",
   "version": "3.9.7"
  }
 },
 "nbformat": 4,
 "nbformat_minor": 5
}
